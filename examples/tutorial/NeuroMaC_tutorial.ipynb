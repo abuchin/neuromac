{
 "cells": [
  {
   "cell_type": "markdown",
   "metadata": {},
   "source": [
    "# NeuroMaC\n",
    "\n",
    "NeuroMaC stands for Neuronal Morphologies and Circuits. It's a parallel framework to generate circuits (neuronal morphologies + putative synapses) based on biological growth rules. \n",
    "\n",
    "The Neuromac software consist of a core program, and some helper scripts. As such, you need to run a few commands and requires slightly more effort.\n",
    "\n",
    "## Simulating basic growth\n",
    "\n",
    "NeuroMac simulates growth cones. The trace that growth-cones leave behind result, as in biology, in  a neuronal structure.\n",
    "\n",
    "To run an simulation, four steps are required.\n",
    "\n",
    "1. Coding the growth cones. \n",
    "1. Setting up a configuration file for the simulation.\n",
    "1. Run simulation.\n",
    "1. Retrieve the results.\n",
    "\n",
    "In this tutorial, we will go through these four steps.\n",
    "\n",
    "A special configuration file and growth cone implementation can be find in the folder `examples\\tutorial`\n",
    "\n",
    "### Coding the growth cones\n",
    "\n",
    "For this example, we are going to grow a mostly random structure with one constraint: the growth cones cannot overlap and they grow away from the soma. Branching is assumed to be random (so called Galton-Watson process) according to some predefined probability.\n",
    "\n",
    "Making a model requires concreteness. What rules express the aforementioned growth?\n",
    "\n",
    "- What happens at the soma (i.e., the initial growth cone)\n",
    "- Do the growth rules remain constant?\n",
    "\n",
    "### Preparing configuration file\n",
    "\n",
    "The configuration file aids in two goals: First, it sets up NeuroMac as well. Remember that one use is in large scale simulations on clusters. Therefore, the configuration has to set up the network and how different parts of the program must communicate with each other. Second, defines the environment in which the growth cones will develop. Boundaries and environmental obstacles can be defined (for instance, the pia is a hard boundary and should be define). Also the location of the initial seed growth cone is defines.\n",
    "\n",
    "Configuration file [documentation](http://b-torbennielsen.home.oist.jp/neuromac/docu.html#configuration-file).\n",
    "\n",
    "### Running the simulation\n",
    "\n",
    "The moment of truth. It usually requires some tweaking and perseverance.\n",
    "\n",
    "`PYTHONPATH=../../../btmorph_v2-develop:.:$PYTHONPATH python ../../Admin.py 1 repulsion.cfg`"
   ]
  },
  {
   "cell_type": "markdown",
   "metadata": {},
   "source": [
    "### Retrieve the results\n",
    "\n",
    "Generate wire plot of the resultant structure\n",
    "\n",
    "`python ../../scripts/generate_wire_plot.py repulsion.cfg repulsion_01.db`\n",
    "\n",
    "Generate a movie (works only if the program \"ffmpeg\" is also instealled)\n",
    "`python ../../scripts/helper_generate_movie.py repulsion.cfg repulsion_01.d`"
   ]
  },
  {
   "cell_type": "markdown",
   "metadata": {
    "collapsed": true
   },
   "source": [
    "## Exercises\n",
    "\n",
    "- What happens if you change the relative contributions of the direction vectors? (rnd_dir, heading and soma_dir)\n",
    "- What do you notice? Do some settings give rise to \"plausible\" structures?\n",
    "- What happens of you use no_seed=2\n",
    "- Resolve the issue by setting a range of initial positions."
   ]
  },
  {
   "cell_type": "markdown",
   "metadata": {},
   "source": [
    "### Common problems\n",
    "\n",
    "- **ImportError: No module named btmorph2**: update the PYTHONPATH. Either by     \n",
    "    `export PYTHONPATH=<some_place>:$PYTHONPATH`   \n",
    "  or by adding the PYTHONPATH before the command you are issuing:  \n",
    "    `PYTHONPATH=<some_place>:$PYTHONPATH python <python_file.py>`\n",
    "    \n",
    "- **ValueError: invalid literal for int() with base 10**: Specify the number of cores you want to use. Add \"1\" after Admin.py"
   ]
  },
  {
   "cell_type": "code",
   "execution_count": null,
   "metadata": {
    "collapsed": true
   },
   "outputs": [],
   "source": []
  }
 ],
 "metadata": {
  "anaconda-cloud": {},
  "kernelspec": {
   "display_name": "Python [default]",
   "language": "python",
   "name": "python2"
  },
  "language_info": {
   "codemirror_mode": {
    "name": "ipython",
    "version": 2
   },
   "file_extension": ".py",
   "mimetype": "text/x-python",
   "name": "python",
   "nbconvert_exporter": "python",
   "pygments_lexer": "ipython2",
   "version": "2.7.9"
  }
 },
 "nbformat": 4,
 "nbformat_minor": 1
}
